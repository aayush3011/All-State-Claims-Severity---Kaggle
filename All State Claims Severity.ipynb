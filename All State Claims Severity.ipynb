{
 "cells": [
  {
   "cell_type": "code",
   "execution_count": 1,
   "metadata": {
    "collapsed": false
   },
   "outputs": [
    {
     "name": "stderr",
     "output_type": "stream",
     "text": [
      "C:\\Anaconda3\\lib\\site-packages\\sklearn\\cross_validation.py:44: DeprecationWarning: This module was deprecated in version 0.18 in favor of the model_selection module into which all the refactored classes and functions are moved. Also note that the interface of the new CV iterators are different from that of this module. This module will be removed in 0.20.\n",
      "  \"This module will be removed in 0.20.\", DeprecationWarning)\n"
     ]
    }
   ],
   "source": [
    "# Basic Import\n",
    "import pandas as pd\n",
    "import numpy as np\n",
    "\n",
    "# Machine Learning Imports\n",
    "from sklearn.decomposition import PCA\n",
    "from sklearn.preprocessing import MinMaxScaler\n",
    "from sklearn.linear_model import LinearRegression,Lasso,Ridge,SGDRegressor,ElasticNet\n",
    "from sklearn.ensemble import RandomForestRegressor,GradientBoostingRegressor\n",
    "from sklearn.neural_network import MLPRegressor\n",
    "from sklearn.cross_validation import cross_val_score,cross_val_predict,train_test_split\n",
    "from sklearn.model_selection import GridSearchCV\n",
    "\n",
    "\n",
    "#Plotting Imports\n",
    "from matplotlib import pyplot as pp\n",
    "import seaborn as sns\n",
    "%matplotlib inline"
   ]
  },
  {
   "cell_type": "code",
   "execution_count": 2,
   "metadata": {
    "collapsed": true
   },
   "outputs": [],
   "source": [
    "training_file = pd.read_csv(\"train.csv\")\n",
    "testing_file = pd.read_csv(\"test.csv\")\n",
    "train_df = training_file.copy(deep=True)\n",
    "test_df = testing_file.copy(deep=True)"
   ]
  },
  {
   "cell_type": "code",
   "execution_count": 3,
   "metadata": {
    "collapsed": false
   },
   "outputs": [
    {
     "name": "stdout",
     "output_type": "stream",
     "text": [
      "The shape of train data and test data are: (188318, 132) and (125546, 131)\n"
     ]
    }
   ],
   "source": [
    "print(\"The shape of train data and test data are: \" + \"%s and %s\" % (training_file.shape, testing_file.shape))"
   ]
  },
  {
   "cell_type": "code",
   "execution_count": 4,
   "metadata": {
    "collapsed": true
   },
   "outputs": [],
   "source": [
    "train_id = training_file['id']\n",
    "test_id = testing_file['id']\n",
    "loss = training_file['loss']\n",
    "\n",
    "training_file.drop('id',axis=1,inplace=True)\n",
    "testing_file.drop('id',axis=1,inplace=True)\n",
    "training_file.drop('loss',axis=1,inplace=True)"
   ]
  },
  {
   "cell_type": "code",
   "execution_count": 5,
   "metadata": {
    "collapsed": false
   },
   "outputs": [
    {
     "name": "stdout",
     "output_type": "stream",
     "text": [
      "The shape of train data and test data are: (188318, 130) and (125546, 130)\n"
     ]
    }
   ],
   "source": [
    "print(\"The shape of train data and test data are: \" + \"%s and %s\" % (training_file.shape, testing_file.shape))"
   ]
  },
  {
   "cell_type": "markdown",
   "metadata": {},
   "source": [
    "### Column 0-115(index) are categorical, 116 - 129 are numeric\n",
    "### Create Dummy Variables \n"
   ]
  },
  {
   "cell_type": "code",
   "execution_count": 6,
   "metadata": {
    "collapsed": false
   },
   "outputs": [
    {
     "name": "stdout",
     "output_type": "stream",
     "text": [
      "The shape of train data and test data are: (188318, 1139) and (125546, 1102)\n"
     ]
    }
   ],
   "source": [
    "\n",
    "dummies_train = pd.get_dummies(training_file[training_file.columns[:116]])\n",
    "dummies_test = pd.get_dummies(testing_file[testing_file.columns[:116]])\n",
    "print(\"The shape of train data and test data are: \" + \"%s and %s\" % (dummies_train.shape, dummies_test.shape))"
   ]
  },
  {
   "cell_type": "markdown",
   "metadata": {},
   "source": [
    "### Deleting columns not present in the test data"
   ]
  },
  {
   "cell_type": "code",
   "execution_count": 7,
   "metadata": {
    "collapsed": true
   },
   "outputs": [],
   "source": [
    "for column in dummies_test.columns:\n",
    "    if column not in dummies_train.columns:\n",
    "        dummies_test.drop(column,axis=1,inplace=True)"
   ]
  },
  {
   "cell_type": "markdown",
   "metadata": {},
   "source": [
    "### Deleting columns not present in the train data"
   ]
  },
  {
   "cell_type": "code",
   "execution_count": 8,
   "metadata": {
    "collapsed": true
   },
   "outputs": [],
   "source": [
    "for column in dummies_train.columns:\n",
    "    if column not in dummies_test.columns:\n",
    "        dummies_train.drop(column,axis=1,inplace=True)"
   ]
  },
  {
   "cell_type": "code",
   "execution_count": 9,
   "metadata": {
    "collapsed": false
   },
   "outputs": [
    {
     "name": "stdout",
     "output_type": "stream",
     "text": [
      "The shape of new train data and new test data are: (188318, 1065) and (125546, 1065)\n"
     ]
    }
   ],
   "source": [
    "print(\"The shape of new train data and new test data are: \" + \"%s and %s\" % (dummies_train.shape, dummies_test.shape))"
   ]
  },
  {
   "cell_type": "markdown",
   "metadata": {},
   "source": [
    "### check if the columns in both the dataset have a mismatch\n"
   ]
  },
  {
   "cell_type": "code",
   "execution_count": 10,
   "metadata": {
    "collapsed": false
   },
   "outputs": [
    {
     "name": "stdout",
     "output_type": "stream",
     "text": [
      "We have 0 mismatch\n"
     ]
    }
   ],
   "source": [
    "\n",
    "mismatch = 0\n",
    "for i in range(len(dummies_train.columns)):\n",
    "    if dummies_train.columns[i] != dummies_test.columns[i]:\n",
    "        mismatch+=1\n",
    "print(\"We have %d mismatch\" %(mismatch))"
   ]
  },
  {
   "cell_type": "markdown",
   "metadata": {},
   "source": [
    "### Normalize numeric variables using Min-Max-Scaler"
   ]
  },
  {
   "cell_type": "code",
   "execution_count": 11,
   "metadata": {
    "collapsed": false
   },
   "outputs": [
    {
     "name": "stdout",
     "output_type": "stream",
     "text": [
      "The shape of new train data and new test data are: (188318, 14) and (125546, 14)\n"
     ]
    }
   ],
   "source": [
    "\n",
    "numeric_train = training_file[training_file.columns[116:]]\n",
    "numeric_test = testing_file[testing_file.columns[116:]]\n",
    "\n",
    "min_max_scaler = MinMaxScaler().fit(numeric_train)\n",
    "\n",
    "#Apply min max scaler\n",
    "train_norm = min_max_scaler.transform(numeric_train)\n",
    "test_norm = min_max_scaler.transform(numeric_test)\n",
    "\n",
    "#Convert numeric normalized values to a dataframe\n",
    "train_norm = pd.DataFrame(train_norm,columns=list(numeric_train.columns))\n",
    "test_norm = pd.DataFrame(test_norm,columns=list(numeric_test.columns))\n",
    "\n",
    "print(\"The shape of new train data and new test data are: \" + \"%s and %s\" % (train_norm.shape, test_norm.shape))"
   ]
  },
  {
   "cell_type": "markdown",
   "metadata": {},
   "source": [
    "### Check correlation on cont variables"
   ]
  },
  {
   "cell_type": "code",
   "execution_count": 12,
   "metadata": {
    "collapsed": false
   },
   "outputs": [
    {
     "name": "stdout",
     "output_type": "stream",
     "text": [
      "           cont1     cont2     cont3     cont4     cont5     cont6     cont7  \\\n",
      "cont1   1.000000 -0.085180 -0.445431  0.367549 -0.025230  0.758315  0.367384   \n",
      "cont2  -0.085180  1.000000  0.455861  0.038693  0.191427  0.015864  0.048187   \n",
      "cont3  -0.445431  0.455861  1.000000 -0.341633  0.089417 -0.349278  0.097516   \n",
      "cont4   0.367549  0.038693 -0.341633  1.000000  0.163748  0.220932 -0.115064   \n",
      "cont5  -0.025230  0.191427  0.089417  0.163748  1.000000 -0.149810 -0.249344   \n",
      "cont6   0.758315  0.015864 -0.349278  0.220932 -0.149810  1.000000  0.658918   \n",
      "cont7   0.367384  0.048187  0.097516 -0.115064 -0.249344  0.658918  1.000000   \n",
      "cont8   0.361163  0.137468 -0.185432  0.528740  0.009015  0.437437  0.142042   \n",
      "cont9   0.929912 -0.032729 -0.417054  0.328961 -0.088202  0.797544  0.384343   \n",
      "cont10  0.808551  0.063526 -0.325562  0.283294 -0.064967  0.883351  0.492621   \n",
      "cont11  0.596090  0.116824  0.025271  0.120927 -0.151548  0.773745  0.747108   \n",
      "cont12  0.614225  0.106250  0.006111  0.130453 -0.148217  0.785144  0.742712   \n",
      "cont13  0.534850  0.023335 -0.418203  0.179342 -0.082915  0.815091  0.288395   \n",
      "cont14  0.056688 -0.045584 -0.039592  0.017445 -0.021638  0.042178  0.022286   \n",
      "\n",
      "           cont8     cont9    cont10    cont11    cont12    cont13    cont14  \n",
      "cont1   0.361163  0.929912  0.808551  0.596090  0.614225  0.534850  0.056688  \n",
      "cont2   0.137468 -0.032729  0.063526  0.116824  0.106250  0.023335 -0.045584  \n",
      "cont3  -0.185432 -0.417054 -0.325562  0.025271  0.006111 -0.418203 -0.039592  \n",
      "cont4   0.528740  0.328961  0.283294  0.120927  0.130453  0.179342  0.017445  \n",
      "cont5   0.009015 -0.088202 -0.064967 -0.151548 -0.148217 -0.082915 -0.021638  \n",
      "cont6   0.437437  0.797544  0.883351  0.773745  0.785144  0.815091  0.042178  \n",
      "cont7   0.142042  0.384343  0.492621  0.747108  0.742712  0.288395  0.022286  \n",
      "cont8   1.000000  0.452658  0.336588  0.302381  0.315904  0.476402  0.043539  \n",
      "cont9   0.452658  1.000000  0.785697  0.608000  0.626656  0.642028  0.074154  \n",
      "cont10  0.336588  0.785697  1.000000  0.702896  0.713812  0.707876  0.041808  \n",
      "cont11  0.302381  0.608000  0.702896  1.000000  0.994384  0.466247  0.047293  \n",
      "cont12  0.315904  0.626656  0.713812  0.994384  1.000000  0.478677  0.050267  \n",
      "cont13  0.476402  0.642028  0.707876  0.466247  0.478677  1.000000  0.047543  \n",
      "cont14  0.043539  0.074154  0.041808  0.047293  0.050267  0.047543  1.000000  \n"
     ]
    }
   ],
   "source": [
    "\n",
    "print(train_norm.corr())"
   ]
  },
  {
   "cell_type": "markdown",
   "metadata": {},
   "source": [
    "### Correlation between continuous predictors and traget"
   ]
  },
  {
   "cell_type": "code",
   "execution_count": 13,
   "metadata": {
    "collapsed": false
   },
   "outputs": [
    {
     "data": {
      "text/plain": [
       "<matplotlib.text.Text at 0x173c0b49240>"
      ]
     },
     "execution_count": 13,
     "metadata": {},
     "output_type": "execute_result"
    },
    {
     "data": {
      "image/png": "[encoded data removed]",
      "text/plain": [
       "<matplotlib.figure.Figure at 0x173c0cc3160>"
      ]
     },
     "metadata": {},
     "output_type": "display_data"
    }
   ],
   "source": [
    "train_corr_loss = train_df.corr()[\"loss\"]\n",
    "ax = train_corr_loss.iloc[1:-1].plot(kind='bar',title=\"continuous features correlation with target\", figsize=(8,6), fontsize=12)\n",
    "ax.set_ylabel(\"correlation value\")"
   ]
  },
  {
   "cell_type": "markdown",
   "metadata": {},
   "source": [
    "### BoxPlot for continuous variables"
   ]
  },
  {
   "cell_type": "code",
   "execution_count": 14,
   "metadata": {
    "collapsed": false
   },
   "outputs": [
    {
     "name": "stderr",
     "output_type": "stream",
     "text": [
      "C:\\Anaconda3\\lib\\site-packages\\seaborn\\categorical.py:2125: UserWarning: The boxplot API has been changed. Attempting to adjust your arguments for the new API (which might not work). Please update your code. See the version 0.6 release notes for more info.\n",
      "  warnings.warn(msg, UserWarning)\n"
     ]
    },
    {
     "data": {
      "text/plain": [
       "(-0.1, 1.1)"
      ]
     },
     "execution_count": 14,
     "metadata": {},
     "output_type": "execute_result"
    },
    {
     "data": {
      "image/png": "[encoded data removed]",
      "text/plain": [
       "<matplotlib.figure.Figure at 0x173c0d686d8>"
      ]
     },
     "metadata": {},
     "output_type": "display_data"
    }
   ],
   "source": [
    "fig,ax = pp.subplots(figsize=(10,6))\n",
    "sns.boxplot(x=numeric_train)\n",
    "ticks = pp.setp(ax.get_xticklabels(),rotation=45)\n",
    "pp.title(\"\")\n",
    "pp.ylim(-.1,1.1)"
   ]
  },
  {
   "cell_type": "markdown",
   "metadata": {},
   "source": [
    "### Numeric Feature Correlation Matrix"
   ]
  },
  {
   "cell_type": "code",
   "execution_count": 15,
   "metadata": {
    "collapsed": false
   },
   "outputs": [
    {
     "data": {
      "text/plain": [
       "<matplotlib.text.Text at 0x17384a104a8>"
      ]
     },
     "execution_count": 15,
     "metadata": {},
     "output_type": "execute_result"
    },
    {
     "data": {
      "image/png": "[encoded data removed]",
      "text/plain": [
       "<matplotlib.figure.Figure at 0x173c0cb4278>"
      ]
     },
     "metadata": {},
     "output_type": "display_data"
    }
   ],
   "source": [
    "correlation = train_df[train_df.columns[116:]].corr(method='pearson')\n",
    "fig,ax = pp.subplots(figsize=(10,8))\n",
    "# sns.heatmap(correlation,annot=True,ax=ax,fmt='2.2f')\n",
    "# # pp.xlabel('Column')\n",
    "# # pp.ylabel('Column')\n",
    "\n",
    "\n",
    "mask = np.zeros_like(correlation)\n",
    "mask[np.triu_indices_from(mask)] = True\n",
    "with sns.axes_style(\"white\"):\n",
    "    ax = sns.heatmap(correlation, mask=mask, square=True, ax=ax, fmt = '2.2f', annot=True)\n",
    "    \n",
    "pp.title('Numeric Feature Correlation Matrix')"
   ]
  },
  {
   "cell_type": "markdown",
   "metadata": {},
   "source": [
    "### Principal Component Analysis"
   ]
  },
  {
   "cell_type": "code",
   "execution_count": 16,
   "metadata": {
    "collapsed": false
   },
   "outputs": [
    {
     "name": "stdout",
     "output_type": "stream",
     "text": [
      "[ 0.34403352  0.15023056  0.1443056   0.11971314  0.08321672  0.05186105]\n",
      "[ 0.34403352  0.15023056  0.1443056   0.11971314  0.08321672  0.05186105]\n"
     ]
    }
   ],
   "source": [
    "\n",
    "pca = PCA(n_components=6)\n",
    "pca.fit(train_norm)\n",
    "\n",
    "train_norm_pca = pca.transform(train_norm)\n",
    "print(pca.explained_variance_ratio_)\n",
    "\n",
    "test_norm_pca = pca.transform(test_norm)\n",
    "print(pca.explained_variance_ratio_)\n",
    "\n",
    "#Convert them to dataframes\n",
    "train_norm_pca = pd.DataFrame(train_norm_pca,columns=[\"PCA1\",\"PCA2\",\"PCA3\",\"PCA4\",\"PCA5\",\"PCA6\"])\n",
    "test_norm_pca = pd.DataFrame(test_norm_pca,columns=[\"PCA1\",\"PCA2\",\"PCA3\",\"PCA4\",\"PCA5\",\"PCA6\"])"
   ]
  },
  {
   "cell_type": "markdown",
   "metadata": {},
   "source": [
    "### Put dummies and PCA together"
   ]
  },
  {
   "cell_type": "code",
   "execution_count": 17,
   "metadata": {
    "collapsed": false
   },
   "outputs": [
    {
     "name": "stdout",
     "output_type": "stream",
     "text": [
      "the shape of final train data and test data is: (188318, 1071) and (125546, 1071)\n"
     ]
    }
   ],
   "source": [
    "final_train = pd.concat((dummies_train,train_norm_pca),axis=1)\n",
    "final_test = pd.concat((dummies_test,test_norm_pca),axis=1)\n",
    "\n",
    "print(\"the shape of final train data and test data is: \"+\"%s and %s\"%(final_train.shape,final_test.shape))"
   ]
  },
  {
   "cell_type": "markdown",
   "metadata": {},
   "source": [
    "### Distribution of target variable \"loss\""
   ]
  },
  {
   "cell_type": "code",
   "execution_count": 18,
   "metadata": {
    "collapsed": false
   },
   "outputs": [
    {
     "data": {
      "text/plain": [
       "<matplotlib.text.Text at 0x17384f6ce10>"
      ]
     },
     "execution_count": 18,
     "metadata": {},
     "output_type": "execute_result"
    },
    {
     "data": {
      "image/png": "[encoded data removed]",
      "text/plain": [
       "<matplotlib.figure.Figure at 0x173849b2d68>"
      ]
     },
     "metadata": {},
     "output_type": "display_data"
    }
   ],
   "source": [
    "sns.distplot(loss,color='b',hist_kws={'alpha':0.9},kde=False)\n",
    "pp.ylabel('Count')\n",
    "pp.xlabel('Loss')\n",
    "pp.title('Distribution of Target Variable Loss')"
   ]
  },
  {
   "cell_type": "markdown",
   "metadata": {},
   "source": [
    "### log loss is way better"
   ]
  },
  {
   "cell_type": "code",
   "execution_count": 19,
   "metadata": {
    "collapsed": false
   },
   "outputs": [
    {
     "data": {
      "text/plain": [
       "<matplotlib.text.Text at 0x17385e749e8>"
      ]
     },
     "execution_count": 19,
     "metadata": {},
     "output_type": "execute_result"
    },
    {
     "data": {
      "image/png": "[encoded data removed]",
      "text/plain": [
       "<matplotlib.figure.Figure at 0x173850cbc18>"
      ]
     },
     "metadata": {},
     "output_type": "display_data"
    }
   ],
   "source": [
    "log_loss = np.log1p(loss)\n",
    "sns.distplot(log_loss,color='r',hist_kws={'alpha':0.9},kde=False)\n",
    "pp.ylabel('Count')\n",
    "pp.xlabel('Log-Loss')\n",
    "pp.title('Distribution of Log of the Target Variable Loss')"
   ]
  },
  {
   "cell_type": "code",
   "execution_count": 20,
   "metadata": {
    "collapsed": false
   },
   "outputs": [],
   "source": [
    "# Delete redundant variables to free some memory\n",
    "del dummies_test, dummies_train, numeric_train, numeric_test, train_norm, test_norm"
   ]
  },
  {
   "cell_type": "markdown",
   "metadata": {},
   "source": [
    "## Creating set of Classifiers"
   ]
  },
  {
   "cell_type": "code",
   "execution_count": 59,
   "metadata": {
    "collapsed": false
   },
   "outputs": [],
   "source": [
    "# alphas = np.logspace(-5, 1, 60)\n",
    "\n",
    "clfs = {}\n",
    "# 1 Linear Regression\n",
    "clfs ['lg'] = {'clf' : LinearRegression(), 'name' : 'LinearRegression'}\n",
    "\n",
    "# 2 Random forest\n",
    "# parameters_rfc = {'n_estimators':[20,50,100],'max_depth':[4,None],'max_features':[2,4],\n",
    "#                   'criterion':['mse'],'min_samples_split': [1, 3, 10],'min_samples_leaf': [1, 3, 10],\n",
    "#                   'bootstrap':[True,False]}\n",
    "clfs['rfc'] = {'clf': RandomForestRegressor(n_estimators = 22,criterion='mse'),'name':'Random Forest '}\n",
    "\n",
    "# 3 Lasso Regression\n",
    "# parameters_lasso = {'alpha':np.logspace(-3,1,10)}\n",
    "clfs['lasso'] = {'clf' : Lasso(alpha=0.1, copy_X=True, fit_intercept=True, max_iter=1000,\n",
    "   normalize=False, positive=False, precompute=False, random_state=None,\n",
    "   selection='cyclic', tol=0.0001, warm_start=False), 'name' : 'Lasso'}\n",
    "\n",
    "# 4 Ridge regression\n",
    "# parameters_ridge = {'alpha':np.logspace(-3,1,10),'solver':['sag','auto','lsqr']}\n",
    "clfs['ridge'] = {'clf' : Ridge(alpha=0.1,solver='auto'), 'name' : 'Ridge'}\n",
    "\n",
    "# 5 ElasticNet Regression\n",
    "# parameters_elastic = {'alpha':np.logspace(-3,1,10),'l1_ratio':[0.2]}\n",
    "clfs['elastic'] = {'clf' : ElasticNet(alpha=0.1,l1_ratio=0.2) , 'name' : 'ElasticNet'}\n",
    "\n",
    "# 6 SGD Regression\n",
    "# parameters_sgd = {'loss':['squared_loss','huber'],'penalty':['l1','l2'],'alpha':np.logspace(-3,1,10),\n",
    "#                  'learning_rate' :['constant','optimal','invscaling'],'eta0' : [0.01],'power_t': [0.25]}\n",
    "clfs['sgd'] = {'clf' : SGDRegressor(loss='squared_loss',penalty='l2',alpha=0.1), 'name' : 'SGD'}\n",
    "\n",
    "# 7 MLP Neural Network\n",
    "# parameters_mlp = {'hidden_layer_sizes' : np.arange(5,12),'solver':['lbgfs'],'activation':['identity','logistic','tanh','relu'],\n",
    "#                  'max_iter':[1500],'alpha':10.0 ** -np.arange(1,7)}\n",
    "clfs['mlp'] = {'clf': MLPRegressor(hidden_layer_sizes=(100,100,100), alpha=0.01, solver='lbgfs'),\n",
    "'name': 'MultilayerPerceptron'}\n",
    "\n",
    "# 8 Gradient Boosting\n",
    "clfs['gb'] = {'clf': GradientBoostingRegressor(n_estimators=200, random_state=0), 'name':'Gradient Boosting'}"
   ]
  },
  {
   "cell_type": "code",
   "execution_count": 22,
   "metadata": {
    "collapsed": true
   },
   "outputs": [],
   "source": [
    "X_train,X_test,y_train,y_test = train_test_split(final_train,log_loss,test_size=0.3,random_state = np.random.randint(500))"
   ]
  },
  {
   "cell_type": "markdown",
   "metadata": {},
   "source": [
    "## Random Forest"
   ]
  },
  {
   "cell_type": "code",
   "execution_count": 27,
   "metadata": {
    "collapsed": false
   },
   "outputs": [
    {
     "name": "stdout",
     "output_type": "stream",
     "text": [
      "Variance Score for test:Random Forest  : 0.4922 \n",
      "Variance Score for train:Random Forest  : 0.9212 \n",
      "MSE for: Random Forest  : 0.3303 \n"
     ]
    }
   ],
   "source": [
    "model = clfs['rfc']['clf'].fit(X_train,y_train)\n",
    "predict_rfc = clfs['rfc']['clf'].predict(X_test)\n",
    "clfs['rfc']['variance score_test'] = clfs['rfc']['clf'].score(X_test,y_test)\n",
    "clfs['rfc']['variance score_train'] = clfs['rfc']['clf'].score(X_train,y_train)\n",
    "\n",
    "print(\"Variance Score for test:\" + clfs['rfc']['name'] + \" : %0.4f \" % (clfs['rfc']['variance score_test']))\n",
    "print(\"Variance Score for train:\" + clfs['rfc']['name'] + \" : %0.4f \" % (clfs['rfc']['variance score_train']))\n",
    "\n",
    "clfs['rfc']['mse'] = (np.mean((predict_rfc - y_test) ** 2))\n",
    "print(\"MSE for: \" + clfs['rfc']['name'] + \" : %0.4f \" % (clfs['rfc']['mse']))\n"
   ]
  },
  {
   "cell_type": "markdown",
   "metadata": {},
   "source": [
    "## Elastic Net"
   ]
  },
  {
   "cell_type": "code",
   "execution_count": 23,
   "metadata": {
    "collapsed": false
   },
   "outputs": [
    {
     "name": "stdout",
     "output_type": "stream",
     "text": [
      "Variance Score for test :ElasticNet : 0.3624 \n",
      "Variance Score for train :ElasticNet : 0.3647 \n",
      "MSE for: ElasticNet : 0.4148 \n"
     ]
    }
   ],
   "source": [
    "model = clfs['elastic']['clf'].fit(X_train,y_train)\n",
    "predict_rfc = clfs['elastic']['clf'].predict(X_test)\n",
    "clfs['elastic']['variance score_test'] = clfs['elastic']['clf'].score(X_test,y_test)\n",
    "clfs['elastic']['variance score_train'] = clfs['elastic']['clf'].score(X_train,y_train)\n",
    "\n",
    "print(\"Variance Score for test :\" + clfs['elastic']['name'] + \" : %0.4f \" % (clfs['elastic']['variance score_test']))\n",
    "print(\"Variance Score for train :\" + clfs['elastic']['name'] + \" : %0.4f \" % (clfs['elastic']['variance score_train']))\n",
    "\n",
    "clfs['elastic']['mse'] = (np.mean((predict_rfc - y_test) ** 2))\n",
    "print(\"MSE for: \" + clfs['elastic']['name'] + \" : %0.4f \" % (clfs['elastic']['mse']))\n"
   ]
  },
  {
   "cell_type": "markdown",
   "metadata": {},
   "source": [
    "## Lasso Regression"
   ]
  },
  {
   "cell_type": "code",
   "execution_count": 24,
   "metadata": {
    "collapsed": false
   },
   "outputs": [
    {
     "name": "stdout",
     "output_type": "stream",
     "text": [
      "Variance Score for test:Lasso : 0.1547 \n",
      "Variance Score for train:Lasso : 0.1551 \n",
      "MSE for: Lasso : 0.5499 \n"
     ]
    }
   ],
   "source": [
    "model = clfs['lasso']['clf'].fit(X_train,y_train)\n",
    "predict_rfc = clfs['lasso']['clf'].predict(X_test)\n",
    "clfs['lasso']['variance score_test'] = clfs['lasso']['clf'].score(X_test,y_test)\n",
    "clfs['lasso']['variance score_train'] = clfs['lasso']['clf'].score(X_train,y_train)\n",
    "\n",
    "print(\"Variance Score for test:\" + clfs['lasso']['name'] + \" : %0.4f \" % (clfs['lasso']['variance score_test']))\n",
    "print(\"Variance Score for train:\" + clfs['lasso']['name'] + \" : %0.4f \" % (clfs['lasso']['variance score_train']))\n",
    "\n",
    "clfs['lasso']['mse'] = (np.mean((predict_rfc - y_test) ** 2))\n",
    "print(\"MSE for: \" + clfs['lasso']['name'] + \" : %0.4f \" % (clfs['lasso']['mse']))\n"
   ]
  },
  {
   "cell_type": "markdown",
   "metadata": {},
   "source": [
    "## Ridge Regression"
   ]
  },
  {
   "cell_type": "code",
   "execution_count": 25,
   "metadata": {
    "collapsed": false
   },
   "outputs": [
    {
     "name": "stdout",
     "output_type": "stream",
     "text": [
      "Variance Score for test:Ridge : 0.5138 \n",
      "Variance Score for train:Ridge : 0.5236 \n",
      "MSE for: Ridge : 0.3163 \n"
     ]
    }
   ],
   "source": [
    "model = clfs['ridge']['clf'].fit(X_train,y_train)\n",
    "predict_rfc = clfs['ridge']['clf'].predict(X_test)\n",
    "clfs['ridge']['variance score_test'] = clfs['ridge']['clf'].score(X_test,y_test)\n",
    "clfs['ridge']['variance score_train'] = clfs['ridge']['clf'].score(X_train,y_train)\n",
    "\n",
    "print(\"Variance Score for test:\" + clfs['ridge']['name'] + \" : %0.4f \" % (clfs['ridge']['variance score_test']))\n",
    "print(\"Variance Score for train:\" + clfs['ridge']['name'] + \" : %0.4f \" % (clfs['ridge']['variance score_train']))\n",
    "\n",
    "clfs['ridge']['mse'] = (np.mean((predict_rfc - y_test) ** 2))\n",
    "print(\"MSE for: \" + clfs['ridge']['name'] + \" : %0.4f \" % (clfs['ridge']['mse']))\n"
   ]
  },
  {
   "cell_type": "markdown",
   "metadata": {},
   "source": [
    "## SGD"
   ]
  },
  {
   "cell_type": "code",
   "execution_count": 26,
   "metadata": {
    "collapsed": false
   },
   "outputs": [
    {
     "name": "stdout",
     "output_type": "stream",
     "text": [
      "Variance Score for test:SGD : 0.4686 \n",
      "Variance Score for train:SGD : 0.4716 \n",
      "MSE for: SGD : 0.3457 \n"
     ]
    }
   ],
   "source": [
    "model = clfs['sgd']['clf'].fit(X_train,y_train)\n",
    "predict_rfc = clfs['sgd']['clf'].predict(X_test)\n",
    "clfs['sgd']['variance score_test'] = clfs['sgd']['clf'].score(X_test,y_test)\n",
    "clfs['sgd']['variance score_train'] = clfs['sgd']['clf'].score(X_train,y_train)\n",
    "\n",
    "print(\"Variance Score for test:\" + clfs['sgd']['name'] + \" : %0.4f \" % (clfs['sgd']['variance score_test']))\n",
    "print(\"Variance Score for train:\" + clfs['sgd']['name'] + \" : %0.4f \" % (clfs['sgd']['variance score_train']))\n",
    "\n",
    "clfs['sgd']['mse'] = (np.mean((predict_rfc - y_test) ** 2))\n",
    "print(\"MSE for: \" + clfs['sgd']['name'] + \" : %0.4f \" % (clfs['sgd']['mse']))\n"
   ]
  },
  {
   "cell_type": "markdown",
   "metadata": {},
   "source": [
    "## MLPRegressor"
   ]
  },
  {
   "cell_type": "code",
   "execution_count": 28,
   "metadata": {
    "collapsed": false
   },
   "outputs": [
    {
     "name": "stdout",
     "output_type": "stream",
     "text": [
      "Variance Score for test:MultilayerPerceptron : 0.5413 \n",
      "Variance Score for train:MultilayerPerceptron : 0.5538 \n",
      "MSE for: MultilayerPerceptron : 0.2984 \n"
     ]
    }
   ],
   "source": [
    "model = clfs['mlp']['clf'].fit(X_train,y_train)\n",
    "predict_rfc = clfs['mlp']['clf'].predict(X_test)\n",
    "clfs['mlp']['variance score_test'] = clfs['mlp']['clf'].score(X_test,y_test)\n",
    "clfs['mlp']['variance score_train'] = clfs['mlp']['clf'].score(X_train,y_train)\n",
    "\n",
    "print(\"Variance Score for test:\" + clfs['mlp']['name'] + \" : %0.4f \" % (clfs['mlp']['variance score_test']))\n",
    "print(\"Variance Score for train:\" + clfs['mlp']['name'] + \" : %0.4f \" % (clfs['mlp']['variance score_train']))\n",
    "\n",
    "clfs['mlp']['mse'] = (np.mean((predict_rfc - y_test) ** 2))\n",
    "print(\"MSE for: \" + clfs['mlp']['name'] + \" : %0.4f \" % (clfs['mlp']['mse']))"
   ]
  },
  {
   "cell_type": "markdown",
   "metadata": {},
   "source": [
    "## Gradient boosting classifier"
   ]
  },
  {
   "cell_type": "code",
   "execution_count": 29,
   "metadata": {
    "collapsed": false
   },
   "outputs": [
    {
     "name": "stdout",
     "output_type": "stream",
     "text": [
      "Variance Score for test:Gradient Boosting : 0.5276 \n",
      "Variance Score for train:Gradient Boosting : 0.5360 \n",
      "MSE for: Gradient Boosting : 0.3073 \n"
     ]
    }
   ],
   "source": [
    "model = clfs['gb']['clf'].fit(X_train,y_train)\n",
    "predict_rfc = clfs['gb']['clf'].predict(X_test)\n",
    "clfs['gb']['variance score_test'] = clfs['gb']['clf'].score(X_test,y_test)\n",
    "clfs['gb']['variance score_train'] = clfs['gb']['clf'].score(X_train,y_train)\n",
    "\n",
    "print(\"Variance Score for test:\" + clfs['gb']['name'] + \" : %0.4f \" % (clfs['gb']['variance score_test']))\n",
    "print(\"Variance Score for train:\" + clfs['gb']['name'] + \" : %0.4f \" % (clfs['gb']['variance score_train']))\n",
    "\n",
    "clfs['gb']['mse'] = (np.mean((predict_rfc - y_test) ** 2))\n",
    "print(\"MSE for: \" + clfs['gb']['name'] + \" : %0.4f \" % (clfs['gb']['mse']))"
   ]
  },
  {
   "cell_type": "markdown",
   "metadata": {},
   "source": [
    "## Top 500 features for random forest"
   ]
  },
  {
   "cell_type": "code",
   "execution_count": 98,
   "metadata": {
    "collapsed": true
   },
   "outputs": [],
   "source": [
    "model = clfs['rfc']['clf'].fit(final_train,log_loss)"
   ]
  },
  {
   "cell_type": "code",
   "execution_count": 102,
   "metadata": {
    "collapsed": false
   },
   "outputs": [],
   "source": [
    "feature_impportances =  sorted(zip(clfs['rfc']['clf'].feature_importances_,final_train.columns.values),reverse=True)\n",
    "important_features_df = pd.DataFrame(feature_impportances,columns=[\"importance\",\"feature\"])\n",
    "top_500_important_features_train = final_train[final_train[important_features_df[\"feature\"]].columns[:501]]\n",
    "top_100_important_features_train = final_train[final_train[important_features_df[\"feature\"]].columns[:101]]"
   ]
  },
  {
   "cell_type": "code",
   "execution_count": 100,
   "metadata": {
    "collapsed": true
   },
   "outputs": [],
   "source": [
    "X_train1,X_test1,y_train1,y_test1 = train_test_split(top_500_important_features_train,log_loss,test_size=0.3,random_state = 50)"
   ]
  },
  {
   "cell_type": "code",
   "execution_count": 101,
   "metadata": {
    "collapsed": false
   },
   "outputs": [
    {
     "name": "stdout",
     "output_type": "stream",
     "text": [
      "Variance Score for test:Random Forest  : 0.4940 \n",
      "Variance Score for train:Random Forest  : 0.9213 \n",
      "MSE for: Random Forest  : 0.3353 \n"
     ]
    }
   ],
   "source": [
    "model = clfs['rfc']['clf'].fit(X_train1,y_train1)\n",
    "predict_rfc = clfs['rfc']['clf'].predict(X_test1)\n",
    "clfs['rfc']['variance score_test'] = clfs['rfc']['clf'].score(X_test1,y_test1)\n",
    "clfs['rfc']['variance score_train'] = clfs['rfc']['clf'].score(X_train1,y_train1)\n",
    "\n",
    "print(\"Variance Score for test:\" + clfs['rfc']['name'] + \" : %0.4f \" % (clfs['rfc']['variance score_test']))\n",
    "print(\"Variance Score for train:\" + clfs['rfc']['name'] + \" : %0.4f \" % (clfs['rfc']['variance score_train']))\n",
    "\n",
    "clfs['rfc']['mse'] = (np.mean((predict_rfc - y_test1) ** 2))\n",
    "print(\"MSE for: \" + clfs['rfc']['name'] + \" : %0.4f \" % (clfs['rfc']['mse']))\n"
   ]
  },
  {
   "cell_type": "code",
   "execution_count": 114,
   "metadata": {
    "collapsed": false
   },
   "outputs": [
    {
     "data": {
      "text/html": [
       "<div>\n",
       "<table border=\"1\" class=\"dataframe\">\n",
       "  <thead>\n",
       "    <tr style=\"text-align: right;\">\n",
       "      <th></th>\n",
       "      <th>importance</th>\n",
       "      <th>feature</th>\n",
       "    </tr>\n",
       "  </thead>\n",
       "  <tbody>\n",
       "    <tr>\n",
       "      <th>0</th>\n",
       "      <td>0.044059</td>\n",
       "      <td>PCA4</td>\n",
       "    </tr>\n",
       "    <tr>\n",
       "      <th>1</th>\n",
       "      <td>0.041330</td>\n",
       "      <td>cat80_B</td>\n",
       "    </tr>\n",
       "    <tr>\n",
       "      <th>2</th>\n",
       "      <td>0.034198</td>\n",
       "      <td>cat80_D</td>\n",
       "    </tr>\n",
       "    <tr>\n",
       "      <th>3</th>\n",
       "      <td>0.032961</td>\n",
       "      <td>PCA3</td>\n",
       "    </tr>\n",
       "    <tr>\n",
       "      <th>4</th>\n",
       "      <td>0.027631</td>\n",
       "      <td>PCA1</td>\n",
       "    </tr>\n",
       "    <tr>\n",
       "      <th>5</th>\n",
       "      <td>0.022610</td>\n",
       "      <td>PCA2</td>\n",
       "    </tr>\n",
       "    <tr>\n",
       "      <th>6</th>\n",
       "      <td>0.016049</td>\n",
       "      <td>cat53_B</td>\n",
       "    </tr>\n",
       "    <tr>\n",
       "      <th>7</th>\n",
       "      <td>0.014495</td>\n",
       "      <td>cat100_I</td>\n",
       "    </tr>\n",
       "    <tr>\n",
       "      <th>8</th>\n",
       "      <td>0.014146</td>\n",
       "      <td>cat100_G</td>\n",
       "    </tr>\n",
       "    <tr>\n",
       "      <th>9</th>\n",
       "      <td>0.013178</td>\n",
       "      <td>cat82_D</td>\n",
       "    </tr>\n",
       "    <tr>\n",
       "      <th>10</th>\n",
       "      <td>0.012859</td>\n",
       "      <td>cat112_J</td>\n",
       "    </tr>\n",
       "    <tr>\n",
       "      <th>11</th>\n",
       "      <td>0.012723</td>\n",
       "      <td>PCA5</td>\n",
       "    </tr>\n",
       "    <tr>\n",
       "      <th>12</th>\n",
       "      <td>0.012417</td>\n",
       "      <td>cat112_AP</td>\n",
       "    </tr>\n",
       "    <tr>\n",
       "      <th>13</th>\n",
       "      <td>0.012187</td>\n",
       "      <td>cat112_AV</td>\n",
       "    </tr>\n",
       "    <tr>\n",
       "      <th>14</th>\n",
       "      <td>0.012152</td>\n",
       "      <td>cat113_AT</td>\n",
       "    </tr>\n",
       "    <tr>\n",
       "      <th>15</th>\n",
       "      <td>0.011998</td>\n",
       "      <td>cat4_B</td>\n",
       "    </tr>\n",
       "    <tr>\n",
       "      <th>16</th>\n",
       "      <td>0.011623</td>\n",
       "      <td>cat87_B</td>\n",
       "    </tr>\n",
       "    <tr>\n",
       "      <th>17</th>\n",
       "      <td>0.011609</td>\n",
       "      <td>cat53_A</td>\n",
       "    </tr>\n",
       "    <tr>\n",
       "      <th>18</th>\n",
       "      <td>0.011317</td>\n",
       "      <td>cat100_J</td>\n",
       "    </tr>\n",
       "    <tr>\n",
       "      <th>19</th>\n",
       "      <td>0.011250</td>\n",
       "      <td>cat76_B</td>\n",
       "    </tr>\n",
       "  </tbody>\n",
       "</table>\n",
       "</div>"
      ],
      "text/plain": [
       "    importance    feature\n",
       "0     0.044059       PCA4\n",
       "1     0.041330    cat80_B\n",
       "2     0.034198    cat80_D\n",
       "3     0.032961       PCA3\n",
       "4     0.027631       PCA1\n",
       "5     0.022610       PCA2\n",
       "6     0.016049    cat53_B\n",
       "7     0.014495   cat100_I\n",
       "8     0.014146   cat100_G\n",
       "9     0.013178    cat82_D\n",
       "10    0.012859   cat112_J\n",
       "11    0.012723       PCA5\n",
       "12    0.012417  cat112_AP\n",
       "13    0.012187  cat112_AV\n",
       "14    0.012152  cat113_AT\n",
       "15    0.011998     cat4_B\n",
       "16    0.011623    cat87_B\n",
       "17    0.011609    cat53_A\n",
       "18    0.011317   cat100_J\n",
       "19    0.011250    cat76_B"
      ]
     },
     "execution_count": 114,
     "metadata": {},
     "output_type": "execute_result"
    }
   ],
   "source": [
    "important_features_df.head(20)"
   ]
  },
  {
   "cell_type": "code",
   "execution_count": 118,
   "metadata": {
    "collapsed": false
   },
   "outputs": [
    {
     "data": {
      "image/png": "[encoded data removed]",
      "text/plain": [
       "<matplotlib.figure.Figure at 0x1db20c2ff60>"
      ]
     },
     "metadata": {},
     "output_type": "display_data"
    }
   ],
   "source": [
    "sns.set_color_codes(\"muted\")\n",
    "sns.barplot(x=\"importance\",y=\"feature\",data=important_features_df.head(20),color=\"b\")\n",
    "\n",
    "pp.xlabel(\"Importance Value\")\n",
    "pp.ylabel(\"Feature\")\n",
    "pp.title(\"Top 20 important features\")\n",
    "pp.show()"
   ]
  },
  {
   "cell_type": "markdown",
   "metadata": {},
   "source": [
    "## Top 500 features for gradient boosting"
   ]
  },
  {
   "cell_type": "code",
   "execution_count": 108,
   "metadata": {
    "collapsed": false
   },
   "outputs": [],
   "source": [
    "model = clfs['gb']['clf'].fit(final_train,log_loss)"
   ]
  },
  {
   "cell_type": "code",
   "execution_count": null,
   "metadata": {
    "collapsed": false
   },
   "outputs": [],
   "source": [
    "feature_impportances =  sorted(zip(clfs['gb']['clf'].feature_importances_,final_train.columns.values),reverse=True)\n",
    "important_features_df = pd.DataFrame(feature_impportances,columns=[\"importance\",\"feature\"])\n",
    "top_500_important_features_train = final_train[final_train[important_features_df[\"feature\"]].columns[:501]]"
   ]
  },
  {
   "cell_type": "code",
   "execution_count": 110,
   "metadata": {
    "collapsed": true
   },
   "outputs": [],
   "source": [
    "X_train2,X_test2,y_train2,y_test2 = train_test_split(top_500_important_features_train,log_loss,test_size=0.3,random_state = 50)"
   ]
  },
  {
   "cell_type": "code",
   "execution_count": 111,
   "metadata": {
    "collapsed": false
   },
   "outputs": [
    {
     "name": "stdout",
     "output_type": "stream",
     "text": [
      "Variance Score for test:Gradient Boosting : 0.5280 \n",
      "Variance Score for train:Gradient Boosting : 0.5344 \n",
      "MSE for: Random Forest  : 0.3067 \n"
     ]
    }
   ],
   "source": [
    "model = clfs['gb']['clf'].fit(X_train2,y_train2)\n",
    "predict_rfc = clfs['gb']['clf'].predict(X_test2)\n",
    "clfs['gb']['variance score_test'] = clfs['gb']['clf'].score(X_test2,y_test2)\n",
    "clfs['gb']['variance score_train'] = clfs['gb']['clf'].score(X_train2,y_train2)\n",
    "\n",
    "print(\"Variance Score for test:\" + clfs['gb']['name'] + \" : %0.4f \" % (clfs['gb']['variance score_test']))\n",
    "print(\"Variance Score for train:\" + clfs['gb']['name'] + \" : %0.4f \" % (clfs['gb']['variance score_train']))\n",
    "\n",
    "clfs['gb']['mse'] = (np.mean((predict_rfc - y_test2) ** 2))\n",
    "print(\"MSE for: \" + clfs['rfc']['name'] + \" : %0.4f \" % (clfs['gb']['mse']))"
   ]
  },
  {
   "cell_type": "markdown",
   "metadata": {
    "collapsed": true
   },
   "source": [
    "## Voting Classifier using mlp, gradient boosting, ridge, random forest"
   ]
  },
  {
   "cell_type": "code",
   "execution_count": 49,
   "metadata": {
    "collapsed": true
   },
   "outputs": [],
   "source": [
    "# from sklearn.ensemble import VotingClassifier\n",
    "# clfs['voting'] = {'clf' : VotingClassifier(estimators=[('gb',clfs['gb']['clf']),('rfc',clfs['rfc']['clf']),\n",
    "#                                                        ('ridge',clfs['ridge']['clf']),('mlp',clfs['mlp']['clf'])],\n",
    "#                                                        voting='hard'),'name':'Voting Classifier'}\n",
    "\n",
    "from sklearn.ensemble import VotingClassifier\n",
    "clfs['voting'] = {'clf' : VotingClassifier(estimators=[('ridge',clfs['ridge']['clf']),('mlp',clfs['mlp']['clf'])],\n",
    "                                                       voting='hard'),'name':'Voting Classifier'}"
   ]
  },
  {
   "cell_type": "code",
   "execution_count": 54,
   "metadata": {
    "collapsed": false
   },
   "outputs": [],
   "source": [
    "# clfs['voting']['variance score'] = clfs['voting']['clf'].score(X_test,y_test)\n",
    "# print(\"Variance Score:\" + clfs['voting']['name'] + \" : %0.4f \" % (clfs['voting']['variance score']))\n",
    "\n",
    "# clfs['voting']['mse'] = (np.mean((predict_rfc - y_test2) ** 2))\n",
    "# print(\"MSE for: \" + clfs['voting']['name'] + \" : %0.4f \" % (clfs['voting']['mse']))"
   ]
  },
  {
   "cell_type": "markdown",
   "metadata": {},
   "source": [
    "## Testing classifiers on test data "
   ]
  },
  {
   "cell_type": "code",
   "execution_count": 55,
   "metadata": {
    "collapsed": true
   },
   "outputs": [],
   "source": [
    "clfs['gb']['clf'].fit(final_train,loss)\n",
    "predicted = clfs['gb']['clf'].predict(final_test)\n",
    "pred_df = pd.DataFrame(predicted,columns=['loss'])\n",
    "test_id_df = pd.Series.to_frame(test_id)\n",
    "output = pd.concat((test_id_df,pred_df),axis=1)\n",
    "\n",
    "output.to_csv('Gradient Boosting Result.csv',sep=',',encoding='utf-8',header=['id','loss'],index=False)"
   ]
  },
  {
   "cell_type": "code",
   "execution_count": 56,
   "metadata": {
    "collapsed": true
   },
   "outputs": [],
   "source": [
    "clfs['rfc']['clf'].fit(final_train,loss)\n",
    "predicted = clfs['rfc']['clf'].predict(final_test)\n",
    "pred_df = pd.DataFrame(predicted,columns=['loss'])\n",
    "test_id_df = pd.Series.to_frame(test_id)\n",
    "output = pd.concat((test_id_df,pred_df),axis=1)\n",
    "\n",
    "output.to_csv('Random Forest Result.csv',sep=',',encoding='utf-8',header=['id','loss'],index=False)"
   ]
  },
  {
   "cell_type": "code",
   "execution_count": 61,
   "metadata": {
    "collapsed": false
   },
   "outputs": [],
   "source": [
    "clfs['mlp']['clf'].fit(final_train,loss)\n",
    "predicted = clfs['mlp']['clf'].predict(final_test)\n",
    "pred_df = pd.DataFrame(predicted,columns=['loss'])\n",
    "test_id_df = pd.Series.to_frame(test_id)\n",
    "output = pd.concat((test_id_df,pred_df),axis=1)\n",
    "\n",
    "# output.to_csv('MLP Result.csv',sep=',',encoding='utf-8',header=['id','loss'],index=False)\n",
    "output.to_csv('MLP Result_new.csv',sep=',',encoding='utf-8',header=['id','loss'],index=False)"
   ]
  },
  {
   "cell_type": "code",
   "execution_count": 58,
   "metadata": {
    "collapsed": true
   },
   "outputs": [],
   "source": [
    "clfs['ridge']['clf'].fit(final_train,loss)\n",
    "predicted = clfs['ridge']['clf'].predict(final_test)\n",
    "pred_df = pd.DataFrame(predicted,columns=['loss'])\n",
    "test_id_df = pd.Series.to_frame(test_id)\n",
    "output = pd.concat((test_id_df,pred_df),axis=1)\n",
    "\n",
    "output.to_csv('Ridge Regression Result.csv',sep=',',encoding='utf-8',header=['id','loss'],index=False)"
   ]
  },
  {
   "cell_type": "code",
   "execution_count": null,
   "metadata": {
    "collapsed": true
   },
   "outputs": [],
   "source": [
    "# clfs['voting']['clf'].fit(final_train,loss)\n",
    "# predicted = clfs['voting']['clf'].predict(final_test)\n",
    "# pred_df = pd.DataFrame(predicted,columns=['loss'])\n",
    "# test_id_df = pd.Series.to_frame(test_id)\n",
    "# output = pd.concat((test_id_df,pred_df),axis=1)\n",
    "\n",
    "# output.to_csv('Voting Classifier Result.csv',sep=',',encoding='utf-8',header=['id','loss'],index=False)"
   ]
  }
 ],
 "metadata": {
  "kernelspec": {
   "display_name": "Python 3",
   "language": "python",
   "name": "python3"
  },
  "language_info": {
   "codemirror_mode": {
    "name": "ipython",
    "version": 3
   },
   "file_extension": ".py",
   "mimetype": "text/x-python",
   "name": "python",
   "nbconvert_exporter": "python",
   "pygments_lexer": "ipython3",
   "version": "3.5.2"
  }
 },
 "nbformat": 4,
 "nbformat_minor": 0
}
